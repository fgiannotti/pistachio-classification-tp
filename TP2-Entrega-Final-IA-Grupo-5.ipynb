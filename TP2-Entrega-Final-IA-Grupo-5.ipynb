{
 "cells": [
  {
   "cell_type": "markdown",
   "id": "abd691db",
   "metadata": {},
   "source": [
    "TP 2 IA: Clasificación de pistachos"
   ]
  },
  {
   "cell_type": "code",
   "execution_count": 129,
   "id": "748397ec",
   "metadata": {},
   "outputs": [],
   "source": [
    "#!pip3 install opencv-python\n",
    "#!pip3 install tensorflow"
   ]
  },
  {
   "cell_type": "code",
   "execution_count": 148,
   "id": "30335d73",
   "metadata": {},
   "outputs": [],
   "source": [
    "import cv2\n",
    "import numpy as np\n",
    "import os\n",
    "from tensorflow.keras.utils import to_categorical\n",
    "from tensorflow.keras.models import Sequential\n",
    "from tensorflow.keras import layers\n",
    "from matplotlib import pyplot\n",
    "from sklearn.model_selection import train_test_split\n",
    "from tensorflow.keras.callbacks import EarlyStopping"
   ]
  },
  {
   "cell_type": "code",
   "execution_count": 131,
   "id": "4baf7d3d",
   "metadata": {},
   "outputs": [],
   "source": [
    "x = [] # images as data\n",
    "y = [] # 1 or 0 according to the x[i] pistacho type"
   ]
  },
  {
   "cell_type": "code",
   "execution_count": 132,
   "id": "607335d3",
   "metadata": {},
   "outputs": [],
   "source": [
    "class_label_encoding = {\n",
    "    'Kirmizi_Pistachio': 0,\n",
    "    'Siirt_Pistachio': 1\n",
    "}"
   ]
  },
  {
   "cell_type": "code",
   "execution_count": 133,
   "id": "184bf4eb",
   "metadata": {},
   "outputs": [
    {
     "data": {
      "text/plain": [
       "array([0.        , 0.        , 0.        , 0.        , 0.        ,\n",
       "       0.        , 0.        , 0.        , 0.        , 0.        ,\n",
       "       0.        , 0.        , 0.        , 0.        , 0.        ,\n",
       "       0.        , 0.        , 0.        , 0.        , 0.        ,\n",
       "       0.        , 0.        , 0.        , 0.        , 0.        ,\n",
       "       0.        , 0.        , 0.        , 0.        , 0.        ,\n",
       "       0.        , 0.        , 0.        , 0.        , 0.        ,\n",
       "       0.        , 0.        , 0.        , 0.        , 0.        ,\n",
       "       0.        , 0.        , 0.        , 0.        , 0.        ,\n",
       "       0.        , 0.        , 0.        , 0.        , 0.        ,\n",
       "       0.        , 0.        , 0.        , 0.        , 0.        ,\n",
       "       0.        , 0.        , 0.        , 0.        , 0.        ,\n",
       "       0.        , 0.        , 0.00653595, 0.00653595, 0.11154684,\n",
       "       0.60871464, 0.8117647 , 0.8627451 , 0.8662309 , 0.8610022 ,\n",
       "       0.8135076 , 0.77124184, 0.7176471 , 0.6244009 , 0.5137255 ,\n",
       "       0.38387802, 0.36165577, 0.55250543, 0.7172113 , 0.7899782 ,\n",
       "       0.81960785, 0.84749454, 0.85664487, 0.8217865 , 0.8017429 ,\n",
       "       0.7590414 , 0.7546841 , 0.71023965, 0.653159  , 0.6514161 ,\n",
       "       0.68758166, 0.70675385, 0.74335515, 0.788671  , 0.8509804 ,\n",
       "       0.8897603 , 0.89237475, 0.89106756, 0.89760345, 0.89673203,\n",
       "       0.89673203, 0.90413946, 0.8997821 , 0.9037037 , 0.90936816,\n",
       "       0.8971678 , 0.90283227, 0.89498913, 0.89760345, 0.89673203,\n",
       "       0.89324623, 0.88366014, 0.8845316 , 0.8884532 , 0.8832244 ,\n",
       "       0.88583875, 0.8862745 , 0.864488  , 0.8662309 , 0.84313726,\n",
       "       0.8418301 , 0.84444445, 0.8392157 , 0.8379085 , 0.8309368 ,\n",
       "       0.8152505 , 0.8043573 , 0.79433554, 0.7925926 , 0.80784315,\n",
       "       0.8191721 , 0.79433554, 0.77603483, 0.72854036, 0.6684096 ,\n",
       "       0.5825708 , 0.18039216, 0.0043573 , 0.00348584, 0.        ,\n",
       "       0.        , 0.        , 0.        , 0.        , 0.        ,\n",
       "       0.        , 0.        , 0.        , 0.        , 0.        ,\n",
       "       0.        , 0.        , 0.        , 0.        , 0.        ,\n",
       "       0.        , 0.        , 0.        , 0.        , 0.        ,\n",
       "       0.        , 0.        , 0.        , 0.        , 0.        ,\n",
       "       0.        , 0.        , 0.        , 0.        , 0.        ,\n",
       "       0.        , 0.        , 0.        , 0.        , 0.        ,\n",
       "       0.        , 0.        , 0.        , 0.        , 0.        ,\n",
       "       0.        , 0.        , 0.        , 0.        , 0.        ,\n",
       "       0.        , 0.        , 0.        , 0.        , 0.        ,\n",
       "       0.        , 0.        , 0.        , 0.        , 0.        ,\n",
       "       0.        , 0.        , 0.        , 0.        , 0.        ],\n",
       "      dtype=float32)"
      ]
     },
     "execution_count": 133,
     "metadata": {},
     "output_type": "execute_result"
    }
   ],
   "source": [
    "# https://docs.opencv.org/4.x/d3/df2/tutorial_py_basic_ops.html\n",
    "full_dir = r\"C:\\Users\\Rakki\\Desktop\\IA\\Pistachio_Image_Dataset\\Pistachio_Image_Dataset\\Pistachio_Image_Dataset\"\n",
    "\n",
    "for directory in os.listdir(full_dir):\n",
    "    if('.txt' in directory): continue\n",
    "    for file in os.listdir(full_dir+'/'+directory):\n",
    "        image_path = full_dir+'/'+directory+'/'+file\n",
    "        img = cv2.imread(image_path,0).astype('float32') # convert images as grayscale\n",
    "        img = cv2.resize(img, (200, 200), interpolation = cv2.INTER_AREA)\n",
    "        img/=255. # This is to have all point in a scale from 0 to 1. because RGB values varies from 0 to 255\n",
    "        x.append(img)        \n",
    "        y.append(class_label_encoding[directory]) # Set 1 or 0 for each pistacho type, based on directory folder\n",
    "        \n",
    "img[150] # example pistacho"
   ]
  },
  {
   "cell_type": "code",
   "execution_count": 136,
   "id": "aed2a2f4",
   "metadata": {},
   "outputs": [
    {
     "data": {
      "text/plain": [
       "(200, 200)"
      ]
     },
     "execution_count": 136,
     "metadata": {},
     "output_type": "execute_result"
    }
   ],
   "source": [
    "img.shape"
   ]
  },
  {
   "cell_type": "code",
   "execution_count": 137,
   "id": "274b90d9",
   "metadata": {},
   "outputs": [
    {
     "data": {
      "text/plain": [
       "(2148, 200, 200, 1)"
      ]
     },
     "execution_count": 137,
     "metadata": {},
     "output_type": "execute_result"
    }
   ],
   "source": [
    "x = np.array(x)\n",
    "x = x.reshape(x.shape[0], x.shape[1], x.shape[2], 1)\n",
    "x.shape"
   ]
  },
  {
   "cell_type": "code",
   "execution_count": 138,
   "id": "a27ecc2a",
   "metadata": {},
   "outputs": [],
   "source": [
    "y = np.array(y)"
   ]
  },
  {
   "cell_type": "code",
   "execution_count": 139,
   "id": "cf5633ef",
   "metadata": {},
   "outputs": [
    {
     "data": {
      "text/plain": [
       "1503"
      ]
     },
     "execution_count": 139,
     "metadata": {},
     "output_type": "execute_result"
    }
   ],
   "source": [
    "x_train, x_test, y_train, y_test = train_test_split(x, y, test_size=0.30, random_state=1234)\n",
    "len(y_train)"
   ]
  },
  {
   "cell_type": "code",
   "execution_count": 140,
   "id": "de716926",
   "metadata": {},
   "outputs": [
    {
     "name": "stdout",
     "output_type": "stream",
     "text": [
      "Train set\n",
      "class 0: 859\n",
      "class 1: 644\n",
      "\n",
      "Test set\n",
      "class 0: 373\n",
      "class 1: 272\n"
     ]
    }
   ],
   "source": [
    "# y_train.sum() gives all the Siirt_Pistachio since they were labeled with a 1\n",
    "\n",
    "print('Train set')\n",
    "print('class 0:', len(y_train) - y_train.sum()) \n",
    "print('class 1:', y_train.sum())\n",
    "\n",
    "print()\n",
    "\n",
    "print('Test set')\n",
    "print('class 0:', len(y_test) - y_test.sum())\n",
    "print('class 1:', y_test.sum())"
   ]
  },
  {
   "cell_type": "code",
   "execution_count": 124,
   "id": "55ac8c3c",
   "metadata": {},
   "outputs": [
    {
     "name": "stdout",
     "output_type": "stream",
     "text": [
      "Model: \"sequential_11\"\n",
      "_________________________________________________________________\n",
      " Layer (type)                Output Shape              Param #   \n",
      "=================================================================\n",
      " conv2d_31 (Conv2D)          (None, 198, 198, 32)      320       \n",
      "                                                                 \n",
      " conv2d_32 (Conv2D)          (None, 196, 196, 64)      18496     \n",
      "                                                                 \n",
      " max_pooling2d_15 (MaxPoolin  (None, 98, 98, 64)       0         \n",
      " g2D)                                                            \n",
      "                                                                 \n",
      " conv2d_33 (Conv2D)          (None, 96, 96, 64)        36928     \n",
      "                                                                 \n",
      " conv2d_34 (Conv2D)          (None, 94, 94, 128)       73856     \n",
      "                                                                 \n",
      " max_pooling2d_16 (MaxPoolin  (None, 47, 47, 128)      0         \n",
      " g2D)                                                            \n",
      "                                                                 \n",
      " conv2d_35 (Conv2D)          (None, 45, 45, 256)       295168    \n",
      "                                                                 \n",
      " conv2d_36 (Conv2D)          (None, 43, 43, 128)       295040    \n",
      "                                                                 \n",
      " max_pooling2d_17 (MaxPoolin  (None, 21, 21, 128)      0         \n",
      " g2D)                                                            \n",
      "                                                                 \n",
      " dropout_15 (Dropout)        (None, 21, 21, 128)       0         \n",
      "                                                                 \n",
      " flatten_5 (Flatten)         (None, 56448)             0         \n",
      "                                                                 \n",
      " dense_20 (Dense)            (None, 1024)              57803776  \n",
      "                                                                 \n",
      " dropout_16 (Dropout)        (None, 1024)              0         \n",
      "                                                                 \n",
      " dense_21 (Dense)            (None, 512)               524800    \n",
      "                                                                 \n",
      " dropout_17 (Dropout)        (None, 512)               0         \n",
      "                                                                 \n",
      " dense_22 (Dense)            (None, 64)                32832     \n",
      "                                                                 \n",
      " dense_23 (Dense)            (None, 1)                 65        \n",
      "                                                                 \n",
      "=================================================================\n",
      "Total params: 59,081,281\n",
      "Trainable params: 59,081,281\n",
      "Non-trainable params: 0\n",
      "_________________________________________________________________\n",
      "None\n"
     ]
    },
    {
     "data": {
      "text/plain": [
       "1503"
      ]
     },
     "execution_count": 124,
     "metadata": {},
     "output_type": "execute_result"
    }
   ],
   "source": [
    "model = Sequential()\n",
    "\n",
    "## CHEQUEAR POR QUE AGREGA ESTO\n",
    "# https://www.tensorflow.org/api_docs/python/tf/keras/Sequential\n",
    "# https://keras.io/api/layers/convolution_layers/convolution2d/\n",
    "model.add(layers.Conv2D(32,(3,3),activation='relu',input_shape=(200,200,1)))\n",
    "model.add(layers.Conv2D(64,(3,3),activation='relu'))\n",
    "model.add(layers.MaxPooling2D())\n",
    "\n",
    "model.add(layers.Conv2D(64,(3,3),activation='relu'))\n",
    "model.add(layers.Conv2D(128,(3,3),activation='relu'))\n",
    "model.add(layers.MaxPooling2D())\n",
    "\n",
    "\n",
    "model.add(layers.Conv2D(256,(3,3),activation='relu'))\n",
    "model.add(layers.Conv2D(128,(3,3),activation='relu'))\n",
    "model.add(layers.MaxPooling2D())\n",
    "\n",
    "model.add(layers.Dropout(0.2))\n",
    "\n",
    "model.add(layers.Flatten())\n",
    "\n",
    "model.add(layers.Dense(1024,activation='relu'))\n",
    "model.add(layers.Dropout(0.2))\n",
    "model.add(layers.Dense(512,activation='relu'))\n",
    "model.add(layers.Dropout(0.1))\n",
    "model.add(layers.Dense(64,activation='relu'))\n",
    "model.add(layers.Dense(1,'sigmoid'))\n",
    "\n",
    "model.compile('Adam','binary_crossentropy',['accuracy'])\n",
    "\n",
    "print(model.summary())\n",
    "\n",
    "len(x_train)"
   ]
  },
  {
   "cell_type": "code",
   "execution_count": 161,
   "id": "c45989a4",
   "metadata": {
    "scrolled": true
   },
   "outputs": [
    {
     "name": "stdout",
     "output_type": "stream",
     "text": [
      "Epoch 1/5\n",
      "12/12 [==============================] - 112s 9s/step - loss: 0.1473 - accuracy: 0.9401 - val_loss: 0.3798 - val_accuracy: 0.8434\n",
      "Epoch 2/5\n",
      "12/12 [==============================] - 114s 10s/step - loss: 0.1676 - accuracy: 0.9375 - val_loss: 0.3972 - val_accuracy: 0.8698\n",
      "Epoch 3/5\n",
      "12/12 [==============================] - 116s 10s/step - loss: 0.1528 - accuracy: 0.9388 - val_loss: 0.4200 - val_accuracy: 0.8574\n",
      "Epoch 4/5\n",
      "12/12 [==============================] - 118s 10s/step - loss: 0.1567 - accuracy: 0.9268 - val_loss: 0.4065 - val_accuracy: 0.8620\n",
      "Epoch 5/5\n",
      "12/12 [==============================] - 113s 9s/step - loss: 0.1341 - accuracy: 0.9368 - val_loss: 0.4957 - val_accuracy: 0.8419\n"
     ]
    }
   ],
   "source": [
    "\n",
    "history = model.fit(np.array(x_train), np.array(y_train), validation_data=(np.array(x_test), np.array(y_test)), batch_size=128, epochs=5)"
   ]
  },
  {
   "cell_type": "markdown",
   "id": "e4abcdab",
   "metadata": {},
   "source": [
    "Analsis de resultados"
   ]
  },
  {
   "cell_type": "code",
   "execution_count": 162,
   "id": "2c385e78",
   "metadata": {},
   "outputs": [
    {
     "data": {
      "image/png": "[encoded data removed]",
      "text/plain": [
       "<Figure size 432x288 with 1 Axes>"
      ]
     },
     "metadata": {
      "needs_background": "light"
     },
     "output_type": "display_data"
    }
   ],
   "source": [
    "pyplot.plot(history.history['accuracy'], label='train')\n",
    "pyplot.plot(history.history['val_accuracy'], label='test')\n",
    "pyplot.plot(history.history['loss'], label='train_loss')\n",
    "pyplot.plot(history.history['val_loss'], label='test_loss')\n",
    "pyplot.legend()\n",
    "pyplot.show()"
   ]
  },
  {
   "cell_type": "code",
   "execution_count": 163,
   "id": "bc133350",
   "metadata": {},
   "outputs": [
    {
     "name": "stdout",
     "output_type": "stream",
     "text": [
      "Testing accuracy: 84.186\n",
      "Testing loss: 0.496\n"
     ]
    }
   ],
   "source": [
    "loss, acc = model.evaluate(np.array(x_test), np.array(y_test), verbose=0) \n",
    "print('Testing accuracy:', round(acc*100,3))\n",
    "print('Testing loss:', round(loss,3))"
   ]
  }
 ],
 "metadata": {
  "kernelspec": {
   "display_name": "Python 3 (ipykernel)",
   "language": "python",
   "name": "python3"
  },
  "language_info": {
   "codemirror_mode": {
    "name": "ipython",
    "version": 3
   },
   "file_extension": ".py",
   "mimetype": "text/x-python",
   "name": "python",
   "nbconvert_exporter": "python",
   "pygments_lexer": "ipython3",
   "version": "3.9.7"
  }
 },
 "nbformat": 4,
 "nbformat_minor": 5
}
